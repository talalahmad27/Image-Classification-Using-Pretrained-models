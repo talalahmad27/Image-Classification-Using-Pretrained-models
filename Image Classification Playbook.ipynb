{
 "cells": [
  {
   "cell_type": "markdown",
   "id": "17c354a1-08cd-46f7-8eea-5200ad16abaf",
   "metadata": {},
   "source": [
    "# 🌤️ **Multi-class Weather Image Classification**\n",
    "This project demonstrates image classification on a multi-class weather dataset using deep learning techniques.\n",
    "\n",
    "## 📂 **Dataset Overview** \n",
    "\n",
    "We are using the Multi-class Weather Dataset (MWD), which contains 1,125 labeled images across various weather conditions. The dataset can be downloaded from the link below\n",
    "\n",
    "🔗 Download the Dataset: https://data.mendeley.com/datasets/4drtyfjtfy/1\n",
    "\n",
    "## 📁 **Folder Structure**\n",
    "After downloading and extracting the dataset, follow the directory structure as below for the project to move further\n",
    "\n",
    "```\n",
    "project_folder/\n",
    "│\n",
    "├── dataset2/\n",
    "│   ├── cloudy1.jpg\n",
    "│   ├── shine170.jpg\n",
    "│   └── ...\n",
    "├── Notebook.ipynb\n",
    "└── my_training.csv\n",
    "├── my_test.csv\n",
    "└── my_validation.csv\n",
    "```\n",
    "\n",
    "## 📄 **Data exploration, Preparation and Partition**\n",
    "\n",
    "The dataset has been partitioned using the following code, and the following files are included in this repository:\n",
    "\n",
    "- `my_training.csv`\n",
    "- `my_validation.csv`\n",
    "- `my_test.csv`\n",
    "\n",
    "Each CSV contains two columns:\n",
    "\n",
    "- `File Path: e.g., dataset2/cloudy1.jpg`\n",
    "\n",
    "- `Image Label: e.g., cloudy`\n",
    "\n",
    "\n"
   ]
  },
  {
   "cell_type": "markdown",
   "id": "a81bdee1",
   "metadata": {},
   "source": [
    "### **Preprocessing and Preparation**\n",
    "\n",
    "Before training the model, we need to:\n",
    "\n",
    "- Process the images to ensure they are in a consistent format.\n",
    "\n",
    "- Parse the provided CSV files to load the file paths and corresponding labels.\n",
    "\n",
    "The \"image_process\" function:\n",
    "\n",
    "- Reads the image file from the provided path.\n",
    "\n",
    "- Decodes the JPEG image into TensorFlow tensors.\n",
    "\n",
    "- Resizes each image to 230 x 230 pixels.\n",
    "\n",
    "- Normalizes pixel values to the range [0, 1].\n",
    "\n",
    "The \"decode_csv\" function:\n",
    "\n",
    "- Reads each row of the CSV file.\n",
    "\n",
    "- Extracts the image path and label.\n",
    "\n",
    "- Processes the image using image_process.\n",
    "\n",
    "- Converts the label string to an integer index using tf.argmax and TensorFlow comparison functions.\n",
    "\n",
    "Here:\n",
    "\n",
    "- CLASS_NAMES = [\"shine\", \"cloudy\", \"sunrise\", \"rain\"] is the list of class labels.\n",
    "\n",
    "- Each label is one-hot encoded and then converted to its corresponding index.\n",
    "\n",
    "The provided CSV files are read and converted into TensorFlow datasets using by following the below mentioned steps\n",
    "\n",
    "- Reads from the corresponding CSV.\n",
    "\n",
    "- Maps the parsing function to each row.\n",
    "\n",
    "- Batches the data with a batch size of 15."
   ]
  },
  {
   "cell_type": "code",
   "execution_count": null,
   "id": "1b84e017-6650-45f7-a915-6e54259b2948",
   "metadata": {},
   "outputs": [],
   "source": [
    "pip install tensorflow pandas numpy matplotlib"
   ]
  },
  {
   "cell_type": "code",
   "execution_count": null,
   "id": "8fe2fd33",
   "metadata": {},
   "outputs": [],
   "source": [
    "pip install torch"
   ]
  },
  {
   "cell_type": "code",
   "execution_count": null,
   "id": "1652ccd5-ca9d-4d6d-a33f-c2fba40b31b1",
   "metadata": {},
   "outputs": [],
   "source": [
    "import os\n",
    "import random\n",
    "import csv\n",
    "import re\n",
    "import pandas as pd\n",
    "import tensorflow as tf\n",
    "import glob\n",
    "from tensorflow.keras import layers, models \n",
    "from tensorflow import keras\n",
    "from keras.layers import Conv2D, MaxPooling2D, Flatten, Dense\n",
    "\n",
    "# Getting the current directory \n",
    "current_dir = os.getcwd()\n",
    "\n",
    "# Complete the path of the dataset directory\n",
    "dataset_dir = os.path.join(current_dir, \"dataset2\")\n",
    "\n",
    "# Creating a list of containing the complete absolute paths to all the images\n",
    "image_files = []\n",
    "for file in os.listdir(dataset_dir):\n",
    "    if file.endswith(\".jpg\"):\n",
    "        image_files.append(os.path.join(dataset_dir, file))\n",
    "\n",
    "# Shuffle the image files randomly\n",
    "random.shuffle(image_files)\n",
    "\n",
    "# Define the size of each partition (training, validation, test)\n",
    "total_files = len(image_files)\n",
    "train_size = int(0.6 * total_files)\n",
    "val_size = int(0.2 * total_files)\n",
    "test_size = total_files - train_size - val_size\n",
    "\n",
    "# Partition the data\n",
    "train_data = image_files[:train_size]\n",
    "val_data = image_files[train_size:train_size+val_size]\n",
    "test_data = image_files[train_size+val_size:]\n",
    "\n",
    "# Define CSV file names\n",
    "train_csv = \"my_training.csv\"\n",
    "val_csv = \"my_validation.csv\"\n",
    "test_csv = \"my_test.csv\"\n",
    "\n",
    "# Write data to CSV files\n",
    "def write_to_csv(file_name, data):\n",
    "    with open(file_name, 'w', newline='') as csvfile:\n",
    "        writer = csv.writer(csvfile)\n",
    "        #jup    writer.writerow(['File path', 'Image label'])\n",
    "        for file_path in data:\n",
    "            label = os.path.basename(file_path).split('.')[0]  # Extract label from file name\n",
    "            label = re.sub(r'\\d+', '', label)\n",
    "            writer.writerow([file_path, label])\n",
    "\n",
    "write_to_csv(train_csv, train_data)\n",
    "write_to_csv(val_csv, val_data)\n",
    "write_to_csv(test_csv, test_data)\n",
    "# First we will define the functions for processing the image and for parsing the CSV files\n",
    "# Function to process the image \n",
    "\n",
    "\n",
    "CLASS_NAMES = [\"shine\",\"cloudy\",\"sunrise\",\"rain\"]\n",
    "\n",
    "def image_process(image_path):\n",
    "    \n",
    "    image = tf.io.read_file(image_path) # Reading the image path\n",
    "    image = tf.image.decode_jpeg(image, channels=3) # Decoding the image into tensors\n",
    "    image = tf.image.resize(image, [230, 230]) # Resizing the image \n",
    "    image = tf.cast(image, tf.float32) / 255.0 # Normalising the pixel values\n",
    "    return image\n",
    "\n",
    "def decode_csv(csv_row):\n",
    "    record_defaults = [\"path\", \"label\"]\n",
    "    filename, label_string = tf.io.decode_csv(csv_row, record_defaults)\n",
    "    img = image_process(filename)\n",
    "    # Encoding the labels as the index of the Class names array as casting the type to float\n",
    "    label = tf.argmax(tf.cast(tf.math.equal(CLASS_NAMES, label_string), tf.float32))\n",
    "    return img, label\n",
    "\n",
    "test_path = \"my_test.csv\"\n",
    "training_path = \"my_training.csv\"\n",
    "validation_path = \"my_validation.csv\"\n",
    "\n",
    "# Getting the datasets for processing of the models\n",
    "test_dataset =  tf.data.TextLineDataset(test_path).map(decode_csv).batch(8)\n",
    "train_dataset =  tf.data.TextLineDataset(training_path).map(decode_csv).batch(8)\n",
    "val_dataset =  tf.data.TextLineDataset(validation_path).map(decode_csv).batch(8)"
   ]
  },
  {
   "cell_type": "markdown",
   "id": "2fe54c6d",
   "metadata": {},
   "source": [
    "### **Visualizing Training Data**\n",
    "\n",
    "Now before proceeding to the training part, we visualize the current data distribution that we have with respect to each class. As shown by the bar chart, the distribution with respect to each graph is as following\n",
    "\n",
    "- **Sunrise**: Approximately 225 images\n",
    "- **Cloudy**: Approximately 175 images\n",
    "- **Shine**: Approximately 140 images\n",
    "- **Rain**: Approximately 125 images\n",
    "\n",
    "The dataset overall looks quite balanced with adequate images for each of the categories under observation"
   ]
  },
  {
   "cell_type": "code",
   "execution_count": 46,
   "id": "4d47b32b-38d0-438d-a76f-f6cbdb43724a",
   "metadata": {},
   "outputs": [
    {
     "data": {
      "image/png": "[encoded data removed]",
      "text/plain": [
       "<Figure size 800x600 with 1 Axes>"
      ]
     },
     "metadata": {},
     "output_type": "display_data"
    }
   ],
   "source": [
    "import matplotlib.pyplot as plt\n",
    "# Load the CSV file into a pandas DataFrame\n",
    "train_df = pd.read_csv('my_training.csv', header=None, names=['filepath', 'label'])\n",
    "val_df  = pd.read_csv('my_validation.csv', header=None, names=['filepath', 'label'])\n",
    "\n",
    "batch_size = 8\n",
    "\n",
    "steps_per_epoch = len(train_df) // batch_size\n",
    "validation_steps = len(val_df) // batch_size\n",
    "\n",
    "\n",
    "# Count the number of images per label\n",
    "label_counts = train_df['label'].value_counts()\n",
    "\n",
    "# Plot the label distribution\n",
    "plt.figure(figsize=(8, 6))\n",
    "plt.bar(label_counts.index, label_counts.values, color='skyblue')\n",
    "plt.title('Training Dataset - Label Distribution', fontsize=16)\n",
    "plt.xlabel('Weather Categories', fontsize=14)\n",
    "plt.ylabel('Number of Images', fontsize=14)\n",
    "plt.xticks(rotation=45)\n",
    "plt.grid(axis='y', linestyle='--', alpha=0.7)\n",
    "plt.show()\n"
   ]
  },
  {
   "cell_type": "markdown",
   "id": "69a20a3d-a3da-4153-819a-710754d5c337",
   "metadata": {},
   "source": [
    "## 🚀 **Model Setup and Training: MobileNet Transfer Learning**\n",
    "\n",
    "In this section, we leverage the MobileNet architecture pre-trained on the ImageNet dataset to perform weather image classification using transfer learning. We freeze the pre-trained layers and train only the final classification layer to adapt the model to our custom dataset.\n",
    "\n",
    "### 📦 **Model Architecture**\n",
    "\n",
    "- Base Model: MobileNet (weights=\"imagenet\")\n",
    "\n",
    "- Input Shape: (230, 230, 3)\n",
    "\n",
    "- Pooling: Global Average Pooling\n",
    "\n",
    "- Trainable Layers: Frozen (no fine-tuning in this step)\n",
    "\n",
    "- Final Layer: Fully connected Dense layer with softmax activation for 4 weather classes.\n",
    "\n",
    "### ⚙️ **Model Compilation**\n",
    "\n",
    "The model is compiled using the Adam optimizer with the custom learning rate schedule and the sparse_categorical_crossentropy loss function, suitable for multi-class classification with integer labels.\n",
    "\n",
    "### 🏋️ **Training the Model**\n",
    "The model is trained for 5 epochs using the prepared train_dataset."
   ]
  },
  {
   "cell_type": "code",
   "execution_count": 47,
   "id": "48a2b261-7397-4ed5-a9d2-719822365ce3",
   "metadata": {},
   "outputs": [
    {
     "name": "stderr",
     "output_type": "stream",
     "text": [
      "/tmp/ipykernel_423/3633985758.py:2: UserWarning: `input_shape` is undefined or non-square, or `rows` is not in [128, 160, 192, 224]. Weights for input shape (224, 224) will be loaded as the default.\n",
      "  mobilenet_model = tf.keras.applications.MobileNet(weights=\"imagenet\",\n"
     ]
    },
    {
     "name": "stdout",
     "output_type": "stream",
     "text": [
      "Epoch 1/5\n",
      "\u001b[1m85/85\u001b[0m \u001b[32m━━━━━━━━━━━━━━━━━━━━\u001b[0m\u001b[37m\u001b[0m \u001b[1m21s\u001b[0m 229ms/step - accuracy: 0.5434 - loss: 1.1424\n",
      "Epoch 2/5\n"
     ]
    },
    {
     "name": "stderr",
     "output_type": "stream",
     "text": [
      "/usr/local/lib/python3.10/dist-packages/keras/src/trainers/epoch_iterator.py:160: UserWarning: Your input ran out of data; interrupting training. Make sure that your dataset or generator can generate at least `steps_per_epoch * epochs` batches. You may need to use the `.repeat()` function when building your dataset.\n",
      "  self._interrupted_warning()\n"
     ]
    },
    {
     "name": "stdout",
     "output_type": "stream",
     "text": [
      "\u001b[1m85/85\u001b[0m \u001b[32m━━━━━━━━━━━━━━━━━━━━\u001b[0m\u001b[37m\u001b[0m \u001b[1m21s\u001b[0m 244ms/step - accuracy: 0.9341 - loss: 0.3064\n",
      "Epoch 3/5\n",
      "\u001b[1m85/85\u001b[0m \u001b[32m━━━━━━━━━━━━━━━━━━━━\u001b[0m\u001b[37m\u001b[0m \u001b[1m21s\u001b[0m 246ms/step - accuracy: 0.9624 - loss: 0.1918\n",
      "Epoch 4/5\n",
      "\u001b[1m85/85\u001b[0m \u001b[32m━━━━━━━━━━━━━━━━━━━━\u001b[0m\u001b[37m\u001b[0m \u001b[1m22s\u001b[0m 260ms/step - accuracy: 0.9698 - loss: 0.1430\n",
      "Epoch 5/5\n",
      "\u001b[1m85/85\u001b[0m \u001b[32m━━━━━━━━━━━━━━━━━━━━\u001b[0m\u001b[37m\u001b[0m \u001b[1m23s\u001b[0m 268ms/step - accuracy: 0.9734 - loss: 0.1140\n"
     ]
    }
   ],
   "source": [
    "# Using the Mobilenet pre-trained model for classification\n",
    "mobilenet_model = tf.keras.applications.MobileNet(weights=\"imagenet\",\n",
    "                                                  input_shape=(230,230,3),\n",
    "                                                  include_top=False,\n",
    "                                                  pooling=\"avg\")\n",
    "\n",
    "# Not training the model. Freezing the layers and using transfer learning only for now\n",
    "for layer in mobilenet_model.layers:\n",
    "    layer.trainable = False\n",
    "\n",
    "# Inatialising the model \n",
    "model_imagenet = tf.keras.Sequential()\n",
    "\n",
    "# Adding the first layers as of the pre-trained model\n",
    "model_imagenet.add(mobilenet_model)\n",
    "\n",
    "# Adjusting the final layers. The final output layer has size of 4 only because of the output classes\n",
    "model_imagenet.add(Dense(units = 4, activation='softmax'))\n",
    "\n",
    "# Defining the learning rate schedule. Using the exponential decay learning rate scheduler\n",
    "initial_learning_rate = 1e-3\n",
    "lr_schedule = tf.keras.optimizers.schedules.ExponentialDecay(\n",
    "    initial_learning_rate,\n",
    "    decay_steps=1000,  # Adjust the decay steps as needed\n",
    "    decay_rate=0.96,   # Adjust the decay rate as needed\n",
    "    staircase=True)\n",
    "\n",
    "# Compiling the model with the learning schedule rate defined above \n",
    "model_imagenet.compile(optimizer = tf.keras.optimizers.Adam(learning_rate=lr_schedule), loss='sparse_categorical_crossentropy', metrics=['accuracy'])\n",
    "\n",
    "# Train the model with your dataset\n",
    "history_imagenet = model_imagenet.fit(\n",
    "    train_dataset,\n",
    "    epochs=5\n",
    ")\n"
   ]
  },
  {
   "cell_type": "markdown",
   "id": "66ba9a15",
   "metadata": {},
   "source": [
    "### ✅ **Model Evaluation on Test Dataset**\n",
    "After training, we evaluate the performance of the pre-trained MobileNet classifier on the test dataset to assess its generalization capability"
   ]
  },
  {
   "cell_type": "code",
   "execution_count": 48,
   "id": "2715194e-b653-4951-8baa-35f9c53c3adb",
   "metadata": {},
   "outputs": [
    {
     "name": "stdout",
     "output_type": "stream",
     "text": [
      "\u001b[1m29/29\u001b[0m \u001b[32m━━━━━━━━━━━━━━━━━━━━\u001b[0m\u001b[37m\u001b[0m \u001b[1m8s\u001b[0m 268ms/step - accuracy: 0.9543 - loss: 0.1616\n",
      "Test Accuracy for pre trained classifier is: 0.9511111378669739\n"
     ]
    }
   ],
   "source": [
    "pt_test_loss, pt_test_accuracy = model_imagenet.evaluate(test_dataset)\n",
    "# Print the test accuracy\n",
    "print(\"Test Accuracy for pre trained classifier is:\", pt_test_accuracy)"
   ]
  },
  {
   "cell_type": "markdown",
   "id": "e8611005",
   "metadata": {},
   "source": [
    "✅ **Key Results**\n",
    "- Test Accuracy: 95.11%\n",
    "\n",
    "- Test Loss: 0.1616\n",
    "\n",
    "📌 **Interpretation**\n",
    "\n",
    "The model achieved a high accuracy of over 95%, indicating that the MobileNet transfer learning approach was highly effective in classifying weather categories in this dataset."
   ]
  },
  {
   "cell_type": "markdown",
   "id": "185e1c86-7246-4935-80cc-39e884a47b2c",
   "metadata": {},
   "source": [
    "## 📊 **Per-Class Performance Analysis**\n",
    "\n",
    "To better understand the model’s performance across different weather categories, we computed the accuracy for each class individually and visualized the results using a bar chart."
   ]
  },
  {
   "cell_type": "code",
   "execution_count": 49,
   "id": "05aabe35-98ba-4351-8919-f5c64d0093eb",
   "metadata": {},
   "outputs": [
    {
     "name": "stdout",
     "output_type": "stream",
     "text": [
      "\u001b[1m1/1\u001b[0m \u001b[32m━━━━━━━━━━━━━━━━━━━━\u001b[0m\u001b[37m\u001b[0m \u001b[1m1s\u001b[0m 629ms/step\n",
      "\u001b[1m1/1\u001b[0m \u001b[32m━━━━━━━━━━━━━━━━━━━━\u001b[0m\u001b[37m\u001b[0m \u001b[1m0s\u001b[0m 164ms/step\n",
      "\u001b[1m1/1\u001b[0m \u001b[32m━━━━━━━━━━━━━━━━━━━━\u001b[0m\u001b[37m\u001b[0m \u001b[1m0s\u001b[0m 254ms/step\n",
      "\u001b[1m1/1\u001b[0m \u001b[32m━━━━━━━━━━━━━━━━━━━━\u001b[0m\u001b[37m\u001b[0m \u001b[1m0s\u001b[0m 159ms/step\n",
      "\u001b[1m1/1\u001b[0m \u001b[32m━━━━━━━━━━━━━━━━━━━━\u001b[0m\u001b[37m\u001b[0m \u001b[1m0s\u001b[0m 251ms/step\n",
      "\u001b[1m1/1\u001b[0m \u001b[32m━━━━━━━━━━━━━━━━━━━━\u001b[0m\u001b[37m\u001b[0m \u001b[1m0s\u001b[0m 247ms/step\n",
      "\u001b[1m1/1\u001b[0m \u001b[32m━━━━━━━━━━━━━━━━━━━━\u001b[0m\u001b[37m\u001b[0m \u001b[1m0s\u001b[0m 252ms/step\n",
      "\u001b[1m1/1\u001b[0m \u001b[32m━━━━━━━━━━━━━━━━━━━━\u001b[0m\u001b[37m\u001b[0m \u001b[1m0s\u001b[0m 169ms/step\n",
      "\u001b[1m1/1\u001b[0m \u001b[32m━━━━━━━━━━━━━━━━━━━━\u001b[0m\u001b[37m\u001b[0m \u001b[1m0s\u001b[0m 191ms/step\n",
      "\u001b[1m1/1\u001b[0m \u001b[32m━━━━━━━━━━━━━━━━━━━━\u001b[0m\u001b[37m\u001b[0m \u001b[1m0s\u001b[0m 160ms/step\n",
      "\u001b[1m1/1\u001b[0m \u001b[32m━━━━━━━━━━━━━━━━━━━━\u001b[0m\u001b[37m\u001b[0m \u001b[1m0s\u001b[0m 175ms/step\n",
      "\u001b[1m1/1\u001b[0m \u001b[32m━━━━━━━━━━━━━━━━━━━━\u001b[0m\u001b[37m\u001b[0m \u001b[1m0s\u001b[0m 170ms/step\n",
      "\u001b[1m1/1\u001b[0m \u001b[32m━━━━━━━━━━━━━━━━━━━━\u001b[0m\u001b[37m\u001b[0m \u001b[1m0s\u001b[0m 250ms/step\n",
      "\u001b[1m1/1\u001b[0m \u001b[32m━━━━━━━━━━━━━━━━━━━━\u001b[0m\u001b[37m\u001b[0m \u001b[1m0s\u001b[0m 237ms/step\n",
      "\u001b[1m1/1\u001b[0m \u001b[32m━━━━━━━━━━━━━━━━━━━━\u001b[0m\u001b[37m\u001b[0m \u001b[1m0s\u001b[0m 160ms/step\n",
      "\u001b[1m1/1\u001b[0m \u001b[32m━━━━━━━━━━━━━━━━━━━━\u001b[0m\u001b[37m\u001b[0m \u001b[1m0s\u001b[0m 252ms/step\n",
      "\u001b[1m1/1\u001b[0m \u001b[32m━━━━━━━━━━━━━━━━━━━━\u001b[0m\u001b[37m\u001b[0m \u001b[1m0s\u001b[0m 145ms/step\n",
      "\u001b[1m1/1\u001b[0m \u001b[32m━━━━━━━━━━━━━━━━━━━━\u001b[0m\u001b[37m\u001b[0m \u001b[1m0s\u001b[0m 244ms/step\n",
      "\u001b[1m1/1\u001b[0m \u001b[32m━━━━━━━━━━━━━━━━━━━━\u001b[0m\u001b[37m\u001b[0m \u001b[1m0s\u001b[0m 258ms/step\n",
      "\u001b[1m1/1\u001b[0m \u001b[32m━━━━━━━━━━━━━━━━━━━━\u001b[0m\u001b[37m\u001b[0m \u001b[1m0s\u001b[0m 233ms/step\n",
      "\u001b[1m1/1\u001b[0m \u001b[32m━━━━━━━━━━━━━━━━━━━━\u001b[0m\u001b[37m\u001b[0m \u001b[1m0s\u001b[0m 258ms/step\n",
      "\u001b[1m1/1\u001b[0m \u001b[32m━━━━━━━━━━━━━━━━━━━━\u001b[0m\u001b[37m\u001b[0m \u001b[1m0s\u001b[0m 258ms/step\n",
      "\u001b[1m1/1\u001b[0m \u001b[32m━━━━━━━━━━━━━━━━━━━━\u001b[0m\u001b[37m\u001b[0m \u001b[1m0s\u001b[0m 175ms/step\n",
      "\u001b[1m1/1\u001b[0m \u001b[32m━━━━━━━━━━━━━━━━━━━━\u001b[0m\u001b[37m\u001b[0m \u001b[1m0s\u001b[0m 201ms/step\n",
      "\u001b[1m1/1\u001b[0m \u001b[32m━━━━━━━━━━━━━━━━━━━━\u001b[0m\u001b[37m\u001b[0m \u001b[1m0s\u001b[0m 349ms/step\n",
      "\u001b[1m1/1\u001b[0m \u001b[32m━━━━━━━━━━━━━━━━━━━━\u001b[0m\u001b[37m\u001b[0m \u001b[1m0s\u001b[0m 357ms/step\n",
      "\u001b[1m1/1\u001b[0m \u001b[32m━━━━━━━━━━━━━━━━━━━━\u001b[0m\u001b[37m\u001b[0m \u001b[1m0s\u001b[0m 247ms/step\n",
      "\u001b[1m1/1\u001b[0m \u001b[32m━━━━━━━━━━━━━━━━━━━━\u001b[0m\u001b[37m\u001b[0m \u001b[1m0s\u001b[0m 244ms/step\n",
      "\u001b[1m1/1\u001b[0m \u001b[32m━━━━━━━━━━━━━━━━━━━━\u001b[0m\u001b[37m\u001b[0m \u001b[1m0s\u001b[0m 437ms/step\n",
      "\n",
      "Accuracy by Weather Category:\n",
      "shine: 0.8928571428571429\n",
      "cloudy: 0.9454545454545454\n",
      "sunrise: 0.9722222222222222\n",
      "rain: 1.0\n",
      "\n",
      "Most Difficult Weather Category to Detect: shine\n"
     ]
    },
    {
     "data": {
      "image/png": "[encoded data removed]",
      "text/plain": [
       "<Figure size 800x600 with 1 Axes>"
      ]
     },
     "metadata": {},
     "output_type": "display_data"
    }
   ],
   "source": [
    "# Initialize dictionaries to store counts and accuracies for each class\n",
    "class_counts = {class_name: 0 for class_name in CLASS_NAMES}\n",
    "class_accuracies = {class_name: 0 for class_name in CLASS_NAMES}\n",
    "accuracies = []\n",
    "# Iterate over the test dataset and calculate accuracies for each class\n",
    "for images, labels in test_dataset:\n",
    "    predictions = model_imagenet.predict(images)\n",
    "    predicted_classes = tf.argmax(predictions, axis=1).numpy()\n",
    "    for true_label, predicted_label in zip(labels.numpy(), predicted_classes):\n",
    "        class_name = CLASS_NAMES[true_label]\n",
    "        class_counts[class_name] += 1\n",
    "        if true_label == predicted_label:\n",
    "            class_accuracies[class_name] += 1\n",
    "\n",
    "# Print accuracies for each class\n",
    "print(\"\\nAccuracy by Weather Category:\")\n",
    "for class_name in CLASS_NAMES:\n",
    "    accuracy = class_accuracies[class_name] / class_counts[class_name] if class_counts[class_name] > 0 else 0\n",
    "    accuracies.append(accuracy)\n",
    "    print(f\"{class_name}: {accuracy}\")\n",
    "\n",
    "# Identify the most difficult weather category to detect\n",
    "most_difficult_weather = max(class_accuracies, key=lambda x: 1 - class_accuracies[x] / class_counts[x])\n",
    "print(\"\\nMost Difficult Weather Category to Detect:\", most_difficult_weather)\n",
    "\n",
    "\n",
    "# Visualization part\n",
    "plt.figure(figsize=(8, 6))\n",
    "bars = plt.bar(CLASS_NAMES, accuracies, color='skyblue', edgecolor='black')\n",
    "\n",
    "# Add accuracy labels on top of each bar\n",
    "for bar in bars:\n",
    "    yval = bar.get_height()\n",
    "    plt.text(bar.get_x() + bar.get_width()/2.0, yval + 0.01, f\"{yval:.2f}\", ha='center', va='bottom')\n",
    "\n",
    "plt.title('Accuracy by Weather Category')\n",
    "plt.xlabel('Weather Category')\n",
    "plt.ylabel('Accuracy')\n",
    "plt.ylim(0, 1.1)\n",
    "plt.grid(axis='y', linestyle='--', alpha=0.7)\n",
    "plt.show()"
   ]
  },
  {
   "cell_type": "markdown",
   "id": "047581d2-59ed-45e6-973a-80879cbd65da",
   "metadata": {},
   "source": [
    "✅ **Accuracy by Weather Category**:\n",
    "\n",
    "The model performs very well across all categories, with the lowest accuracy in the shine category, indicating it is the most challenging for the model to detect.\n",
    "    \n",
    "📌 **Insights**:\n",
    "\n",
    "- Shine is the hardest class for the model, possibly due to similarities with other categories like sunrise or cloudy.\n",
    "\n",
    "- Rain is perfectly classified in this dataset, indicating strong feature distinguishability.\n",
    "\n",
    "- Visualizing class-wise performance is critical to identify specific weaknesses in the classifier that may not be evident from overall accuracy alone."
   ]
  }
 ],
 "metadata": {
  "kernelspec": {
   "display_name": "Python 3 (ipykernel)",
   "language": "python",
   "name": "python3"
  },
  "language_info": {
   "codemirror_mode": {
    "name": "ipython",
    "version": 3
   },
   "file_extension": ".py",
   "mimetype": "text/x-python",
   "name": "python",
   "nbconvert_exporter": "python",
   "pygments_lexer": "ipython3",
   "version": "3.10.12"
  }
 },
 "nbformat": 4,
 "nbformat_minor": 5
}
